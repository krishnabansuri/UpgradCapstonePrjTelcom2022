{
 "cells": [
  {
   "cell_type": "code",
   "execution_count": null,
   "metadata": {},
   "outputs": [],
   "source": [
    "# Need Matplotlib\n",
    "#conda install basemap\n",
    "#conda install basemap-data-hires\n",
    "#pip install Pillow"
   ]
  },
  {
   "cell_type": "code",
   "execution_count": 104,
   "metadata": {},
   "outputs": [],
   "source": [
    "import numpy as np\n",
    "import pandas as pd\n",
    "import os\n",
    "import matplotlib.pyplot as plt\n",
    "import seaborn as sns \n",
    "from mpl_toolkits.basemap import Basemap\n",
    "%matplotlib inline"
   ]
  },
  {
   "cell_type": "code",
   "execution_count": 105,
   "metadata": {},
   "outputs": [
    {
     "data": {
      "text/html": [
       "<div>\n",
       "<style scoped>\n",
       "    .dataframe tbody tr th:only-of-type {\n",
       "        vertical-align: middle;\n",
       "    }\n",
       "\n",
       "    .dataframe tbody tr th {\n",
       "        vertical-align: top;\n",
       "    }\n",
       "\n",
       "    .dataframe thead th {\n",
       "        text-align: right;\n",
       "    }\n",
       "</style>\n",
       "<table border=\"1\" class=\"dataframe\">\n",
       "  <thead>\n",
       "    <tr style=\"text-align: right;\">\n",
       "      <th></th>\n",
       "      <th>lat</th>\n",
       "      <th>lng</th>\n",
       "    </tr>\n",
       "  </thead>\n",
       "  <tbody>\n",
       "    <tr>\n",
       "      <th>0</th>\n",
       "      <td>18.987807</td>\n",
       "      <td>72.836447</td>\n",
       "    </tr>\n",
       "    <tr>\n",
       "      <th>1</th>\n",
       "      <td>28.651952</td>\n",
       "      <td>77.231495</td>\n",
       "    </tr>\n",
       "    <tr>\n",
       "      <th>2</th>\n",
       "      <td>22.562627</td>\n",
       "      <td>88.363044</td>\n",
       "    </tr>\n",
       "    <tr>\n",
       "      <th>3</th>\n",
       "      <td>13.084622</td>\n",
       "      <td>80.248357</td>\n",
       "    </tr>\n",
       "    <tr>\n",
       "      <th>4</th>\n",
       "      <td>12.977063</td>\n",
       "      <td>77.587106</td>\n",
       "    </tr>\n",
       "  </tbody>\n",
       "</table>\n",
       "</div>"
      ],
      "text/plain": [
       "         lat        lng\n",
       "0  18.987807  72.836447\n",
       "1  28.651952  77.231495\n",
       "2  22.562627  88.363044\n",
       "3  13.084622  80.248357\n",
       "4  12.977063  77.587106"
      ]
     },
     "execution_count": 105,
     "metadata": {},
     "output_type": "execute_result"
    }
   ],
   "source": [
    "#Loading the Data \n",
    "train = pd.read_csv('in_new.csv')\n",
    "train.head()"
   ]
  },
  {
   "cell_type": "code",
   "execution_count": 106,
   "metadata": {},
   "outputs": [
    {
     "name": "stderr",
     "output_type": "stream",
     "text": [
      "c:\\users\\user\\anaconda2\\envs\\mypersonal_mentor\\lib\\site-packages\\ipykernel_launcher.py:10: MatplotlibDeprecationWarning: \n",
      "The dedent function was deprecated in Matplotlib 3.1 and will be removed in 3.3. Use inspect.cleandoc instead.\n",
      "  # Remove the CWD from sys.path while we load stuff.\n",
      "c:\\users\\user\\anaconda2\\envs\\mypersonal_mentor\\lib\\site-packages\\ipykernel_launcher.py:15: MatplotlibDeprecationWarning: \n",
      "The dedent function was deprecated in Matplotlib 3.1 and will be removed in 3.3. Use inspect.cleandoc instead.\n",
      "  from ipykernel import kernelapp as app\n"
     ]
    },
    {
     "data": {
      "image/png": "[encoded data removed]",
      "text/plain": [
       "<Figure size 576x576 with 1 Axes>"
      ]
     },
     "metadata": {},
     "output_type": "display_data"
    }
   ],
   "source": [
    "fig = plt.figure(figsize=(8, 8))\n",
    "\n",
    "# Mercator of World\n",
    "m = Basemap(projection='merc',\n",
    "             llcrnrlat=5,  #latitude of lower left hand corner of the desired map domain\n",
    "             urcrnrlat=40, #latitude of upper right hand corner of the desired map domain\n",
    "             llcrnrlon=65, #longitude of lower left hand corner of the desired map domain\n",
    "             urcrnrlon=95, #longitude of upper right hand corner of the desired map domain\n",
    "             lat_ts=0, #latitude of true scale\n",
    "             resolution='c') #resolution of boundary dataset being used - c for crude\n",
    "\n",
    "\n",
    "m.fillcontinents(color='#191919',lake_color='#000000') # dark grey land, black lakes\n",
    "m.drawmapboundary(fill_color='#000000')                # black background\n",
    "m.drawcountries(linewidth=0.15, color=\"w\")              # thin white line for country borders\n",
    "\n",
    "# Plot the data\n",
    "mxy = m(train[\"lng\"].tolist(), train[\"lat\"].tolist())\n",
    "m.scatter(mxy[0], mxy[1], s=5, c=\"#1292db\", zorder=2)    # zorder for the points  \n",
    "\n",
    "plt.title(\"India Map\")\n",
    "plt.show()"
   ]
  }
 ],
 "metadata": {
  "kernelspec": {
   "display_name": "Python 3",
   "language": "python",
   "name": "python3"
  },
  "language_info": {
   "codemirror_mode": {
    "name": "ipython",
    "version": 3
   },
   "file_extension": ".py",
   "mimetype": "text/x-python",
   "name": "python",
   "nbconvert_exporter": "python",
   "pygments_lexer": "ipython3",
   "version": "3.7.7"
  }
 },
 "nbformat": 4,
 "nbformat_minor": 1
}
